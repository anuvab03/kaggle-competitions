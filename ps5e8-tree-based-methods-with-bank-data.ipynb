{
 "cells": [
  {
   "cell_type": "markdown",
   "id": "9f401404",
   "metadata": {
    "papermill": {
     "duration": 0.006913,
     "end_time": "2025-08-10T13:13:41.983526",
     "exception": false,
     "start_time": "2025-08-10T13:13:41.976613",
     "status": "completed"
    },
    "tags": []
   },
   "source": [
    "# Tree-based methods with Bank Data"
   ]
  },
  {
   "cell_type": "markdown",
   "id": "bbbf2f83",
   "metadata": {
    "papermill": {
     "duration": 0.005595,
     "end_time": "2025-08-10T13:13:41.995255",
     "exception": false,
     "start_time": "2025-08-10T13:13:41.989660",
     "status": "completed"
    },
    "tags": []
   },
   "source": [
    "In this notebook, we explore the use of tree-based methods such as:\n",
    "\n",
    "- Random Forest\n",
    "- Bagging and;\n",
    "- Boosting\n",
    "\n",
    "To learn more about about tree-based methods, check out the videos from StatQuest below.\n",
    "\n",
    "- [Classification And Regression Trees](https://www.youtube.com/playlist?list=PLblh5JKOoLUKAtDViTvRGFpphEc24M-QH)\n",
    "- [Random Forests](https://www.youtube.com/playlist?list=PLblh5JKOoLUIE96dI3U7oxHaCAbZgfhHk)\n",
    "- [Gradient Boost](https://www.youtube.com/playlist?list=PLblh5JKOoLUJjeXUvUE0maghNuY2_5fY6)"
   ]
  },
  {
   "cell_type": "markdown",
   "id": "bb502907",
   "metadata": {
    "_cell_guid": "b1076dfc-b9ad-4769-8c92-a6c4dae69d19",
    "_kg_hide-input": true,
    "_uuid": "8f2839f25d086af736a60e9eeb907d3b93b6e0e5",
    "papermill": {
     "duration": 0.005585,
     "end_time": "2025-08-10T13:13:42.006877",
     "exception": false,
     "start_time": "2025-08-10T13:13:42.001292",
     "status": "completed"
    },
    "tags": []
   },
   "source": [
    "## Preamble"
   ]
  },
  {
   "cell_type": "markdown",
   "id": "dad62609",
   "metadata": {
    "_kg_hide-input": true,
    "papermill": {
     "duration": 0.006177,
     "end_time": "2025-08-10T13:13:42.018932",
     "exception": false,
     "start_time": "2025-08-10T13:13:42.012755",
     "status": "completed"
    },
    "tags": []
   },
   "source": [
    "### Imports"
   ]
  },
  {
   "cell_type": "code",
   "execution_count": 1,
   "id": "038cd3f2",
   "metadata": {
    "_kg_hide-input": true,
    "execution": {
     "iopub.execute_input": "2025-08-10T13:13:42.031845Z",
     "iopub.status.busy": "2025-08-10T13:13:42.031547Z",
     "iopub.status.idle": "2025-08-10T13:13:45.874940Z",
     "shell.execute_reply": "2025-08-10T13:13:45.873962Z"
    },
    "papermill": {
     "duration": 3.852027,
     "end_time": "2025-08-10T13:13:45.876726",
     "exception": false,
     "start_time": "2025-08-10T13:13:42.024699",
     "status": "completed"
    },
    "tags": []
   },
   "outputs": [],
   "source": [
    "from os import path\n",
    "import joblib\n",
    "\n",
    "import numpy as np\n",
    "import pandas as pd\n",
    "\n",
    "from sklearn.ensemble import RandomForestClassifier, \\\n",
    "    HistGradientBoostingClassifier\n",
    "from sklearn.pipeline import Pipeline\n",
    "from sklearn.preprocessing import OneHotEncoder, StandardScaler\n",
    "from sklearn.compose import ColumnTransformer\n",
    "from sklearn.model_selection import train_test_split, cross_validate\n",
    "from sklearn.metrics import roc_auc_score"
   ]
  },
  {
   "cell_type": "markdown",
   "id": "f545877b",
   "metadata": {
    "_kg_hide-input": true,
    "papermill": {
     "duration": 0.005749,
     "end_time": "2025-08-10T13:13:45.888850",
     "exception": false,
     "start_time": "2025-08-10T13:13:45.883101",
     "status": "completed"
    },
    "tags": []
   },
   "source": [
    "### Definitions"
   ]
  },
  {
   "cell_type": "markdown",
   "id": "fa3c3b0c",
   "metadata": {
    "_kg_hide-input": true,
    "papermill": {
     "duration": 0.010733,
     "end_time": "2025-08-10T13:13:45.905731",
     "exception": false,
     "start_time": "2025-08-10T13:13:45.894998",
     "status": "completed"
    },
    "tags": []
   },
   "source": [
    "#### Constants"
   ]
  },
  {
   "cell_type": "code",
   "execution_count": 2,
   "id": "7edf54b3",
   "metadata": {
    "_kg_hide-input": true,
    "execution": {
     "iopub.execute_input": "2025-08-10T13:13:45.929912Z",
     "iopub.status.busy": "2025-08-10T13:13:45.929077Z",
     "iopub.status.idle": "2025-08-10T13:13:45.934786Z",
     "shell.execute_reply": "2025-08-10T13:13:45.933720Z"
    },
    "papermill": {
     "duration": 0.019413,
     "end_time": "2025-08-10T13:13:45.938666",
     "exception": false,
     "start_time": "2025-08-10T13:13:45.919253",
     "status": "completed"
    },
    "tags": []
   },
   "outputs": [],
   "source": [
    "INPUT_PATH='/kaggle/input/playground-series-s5e8'\n",
    "MODELS_PATH='/kaggle/input/ps5e8-bank-data-models/scikitlearn/default/1'\n",
    "RNG_SEED = 42\n",
    "VERBOSITY = 1\n",
    "SCORING='roc_auc'"
   ]
  },
  {
   "cell_type": "markdown",
   "id": "e563649b",
   "metadata": {
    "_kg_hide-input": true,
    "papermill": {
     "duration": 0.010612,
     "end_time": "2025-08-10T13:13:45.960356",
     "exception": false,
     "start_time": "2025-08-10T13:13:45.949744",
     "status": "completed"
    },
    "tags": []
   },
   "source": [
    "#### Utilities"
   ]
  },
  {
   "cell_type": "code",
   "execution_count": 3,
   "id": "b270ef10",
   "metadata": {
    "_kg_hide-input": true,
    "execution": {
     "iopub.execute_input": "2025-08-10T13:13:45.981569Z",
     "iopub.status.busy": "2025-08-10T13:13:45.981247Z",
     "iopub.status.idle": "2025-08-10T13:13:45.986894Z",
     "shell.execute_reply": "2025-08-10T13:13:45.986007Z"
    },
    "papermill": {
     "duration": 0.017226,
     "end_time": "2025-08-10T13:13:45.988349",
     "exception": false,
     "start_time": "2025-08-10T13:13:45.971123",
     "status": "completed"
    },
    "tags": []
   },
   "outputs": [],
   "source": [
    "def load_model(file_path):\n",
    "    if path.exists(file_path):\n",
    "        try:\n",
    "            model = joblib.load(file_path)\n",
    "            print(f'{file_path} loaded.')\n",
    "            return model\n",
    "        except Exception as e:\n",
    "            print(f\"error loading the object from {file_path}: {e}\")\n",
    "            return None\n",
    "    else:\n",
    "        print(f\"{file_path} not found.\")\n",
    "        return None\n",
    "\n",
    "def save_model(model, filename):\n",
    "    joblib.dump(model, filename, compress=True)\n",
    "    print(f'{filename} saved.');"
   ]
  },
  {
   "cell_type": "markdown",
   "id": "386bc02f",
   "metadata": {
    "papermill": {
     "duration": 0.005605,
     "end_time": "2025-08-10T13:13:45.999969",
     "exception": false,
     "start_time": "2025-08-10T13:13:45.994364",
     "status": "completed"
    },
    "tags": []
   },
   "source": [
    "## Bank data"
   ]
  },
  {
   "cell_type": "code",
   "execution_count": 4,
   "id": "b4d3ecd4",
   "metadata": {
    "execution": {
     "iopub.execute_input": "2025-08-10T13:13:46.012821Z",
     "iopub.status.busy": "2025-08-10T13:13:46.012501Z",
     "iopub.status.idle": "2025-08-10T13:13:48.585829Z",
     "shell.execute_reply": "2025-08-10T13:13:48.585061Z"
    },
    "papermill": {
     "duration": 2.581598,
     "end_time": "2025-08-10T13:13:48.587391",
     "exception": false,
     "start_time": "2025-08-10T13:13:46.005793",
     "status": "completed"
    },
    "tags": []
   },
   "outputs": [
    {
     "data": {
      "text/plain": [
       "(750000, 17)"
      ]
     },
     "execution_count": 4,
     "metadata": {},
     "output_type": "execute_result"
    }
   ],
   "source": [
    "train = pd.read_csv(path.join(INPUT_PATH, 'train.csv'), index_col='id')\n",
    "train.shape"
   ]
  },
  {
   "cell_type": "code",
   "execution_count": 5,
   "id": "8b404c5a",
   "metadata": {
    "execution": {
     "iopub.execute_input": "2025-08-10T13:13:48.601385Z",
     "iopub.status.busy": "2025-08-10T13:13:48.600617Z",
     "iopub.status.idle": "2025-08-10T13:13:48.707719Z",
     "shell.execute_reply": "2025-08-10T13:13:48.706905Z"
    },
    "papermill": {
     "duration": 0.11547,
     "end_time": "2025-08-10T13:13:48.709206",
     "exception": false,
     "start_time": "2025-08-10T13:13:48.593736",
     "status": "completed"
    },
    "tags": []
   },
   "outputs": [
    {
     "data": {
      "text/plain": [
       "(['default',\n",
       "  'housing',\n",
       "  'loan',\n",
       "  'job',\n",
       "  'education',\n",
       "  'contact',\n",
       "  'month',\n",
       "  'poutcome',\n",
       "  'marital'],\n",
       " ['age', 'balance', 'day', 'duration', 'campaign', 'pdays', 'previous'])"
      ]
     },
     "execution_count": 5,
     "metadata": {},
     "output_type": "execute_result"
    }
   ],
   "source": [
    "all_features = train.drop('y', axis='columns').columns.tolist()\n",
    "non_bin_features = ['job', 'education', 'contact', 'month', 'poutcome','marital']\n",
    "bin_features = ['default', 'housing', 'loan']\n",
    "cat_features = bin_features + non_bin_features\n",
    "num_features = [x for x in all_features if x not in cat_features]\n",
    "\n",
    "cat_features, num_features"
   ]
  },
  {
   "cell_type": "markdown",
   "id": "ab3162a2",
   "metadata": {
    "papermill": {
     "duration": 0.005808,
     "end_time": "2025-08-10T13:13:48.721447",
     "exception": false,
     "start_time": "2025-08-10T13:13:48.715639",
     "status": "completed"
    },
    "tags": []
   },
   "source": [
    "### Train/test split"
   ]
  },
  {
   "cell_type": "code",
   "execution_count": 6,
   "id": "731987f1",
   "metadata": {
    "execution": {
     "iopub.execute_input": "2025-08-10T13:13:48.735010Z",
     "iopub.status.busy": "2025-08-10T13:13:48.734207Z",
     "iopub.status.idle": "2025-08-10T13:13:49.101111Z",
     "shell.execute_reply": "2025-08-10T13:13:49.100311Z"
    },
    "papermill": {
     "duration": 0.375036,
     "end_time": "2025-08-10T13:13:49.102505",
     "exception": false,
     "start_time": "2025-08-10T13:13:48.727469",
     "status": "completed"
    },
    "tags": []
   },
   "outputs": [
    {
     "data": {
      "text/plain": [
       "((502500, 16), (247500, 16), (502500,), (247500,))"
      ]
     },
     "execution_count": 6,
     "metadata": {},
     "output_type": "execute_result"
    }
   ],
   "source": [
    "y = train.loc[:, 'y']\n",
    "X = train.drop('y', axis='columns')\n",
    "\n",
    "X_train, X_test, y_train, y_test = train_test_split(X, y, test_size=0.33, random_state=RNG_SEED)\n",
    "X_train.shape, X_test.shape, y_train.shape, y_test.shape"
   ]
  },
  {
   "cell_type": "markdown",
   "id": "1ffecd0b",
   "metadata": {
    "papermill": {
     "duration": 0.005919,
     "end_time": "2025-08-10T13:13:49.114597",
     "exception": false,
     "start_time": "2025-08-10T13:13:49.108678",
     "status": "completed"
    },
    "tags": []
   },
   "source": [
    "## Column transformer"
   ]
  },
  {
   "cell_type": "markdown",
   "id": "a12ca449",
   "metadata": {
    "papermill": {
     "duration": 0.005693,
     "end_time": "2025-08-10T13:13:49.126525",
     "exception": false,
     "start_time": "2025-08-10T13:13:49.120832",
     "status": "completed"
    },
    "tags": []
   },
   "source": [
    "Here, we define a base column transformer for all pipelines."
   ]
  },
  {
   "cell_type": "code",
   "execution_count": 7,
   "id": "ec29a511",
   "metadata": {
    "execution": {
     "iopub.execute_input": "2025-08-10T13:13:49.139466Z",
     "iopub.status.busy": "2025-08-10T13:13:49.139146Z",
     "iopub.status.idle": "2025-08-10T13:13:49.153438Z",
     "shell.execute_reply": "2025-08-10T13:13:49.152640Z"
    },
    "papermill": {
     "duration": 0.022254,
     "end_time": "2025-08-10T13:13:49.154682",
     "exception": false,
     "start_time": "2025-08-10T13:13:49.132428",
     "status": "completed"
    },
    "tags": []
   },
   "outputs": [
    {
     "data": {
      "text/html": [
       "<style>#sk-container-id-1 {color: black;background-color: white;}#sk-container-id-1 pre{padding: 0;}#sk-container-id-1 div.sk-toggleable {background-color: white;}#sk-container-id-1 label.sk-toggleable__label {cursor: pointer;display: block;width: 100%;margin-bottom: 0;padding: 0.3em;box-sizing: border-box;text-align: center;}#sk-container-id-1 label.sk-toggleable__label-arrow:before {content: \"▸\";float: left;margin-right: 0.25em;color: #696969;}#sk-container-id-1 label.sk-toggleable__label-arrow:hover:before {color: black;}#sk-container-id-1 div.sk-estimator:hover label.sk-toggleable__label-arrow:before {color: black;}#sk-container-id-1 div.sk-toggleable__content {max-height: 0;max-width: 0;overflow: hidden;text-align: left;background-color: #f0f8ff;}#sk-container-id-1 div.sk-toggleable__content pre {margin: 0.2em;color: black;border-radius: 0.25em;background-color: #f0f8ff;}#sk-container-id-1 input.sk-toggleable__control:checked~div.sk-toggleable__content {max-height: 200px;max-width: 100%;overflow: auto;}#sk-container-id-1 input.sk-toggleable__control:checked~label.sk-toggleable__label-arrow:before {content: \"▾\";}#sk-container-id-1 div.sk-estimator input.sk-toggleable__control:checked~label.sk-toggleable__label {background-color: #d4ebff;}#sk-container-id-1 div.sk-label input.sk-toggleable__control:checked~label.sk-toggleable__label {background-color: #d4ebff;}#sk-container-id-1 input.sk-hidden--visually {border: 0;clip: rect(1px 1px 1px 1px);clip: rect(1px, 1px, 1px, 1px);height: 1px;margin: -1px;overflow: hidden;padding: 0;position: absolute;width: 1px;}#sk-container-id-1 div.sk-estimator {font-family: monospace;background-color: #f0f8ff;border: 1px dotted black;border-radius: 0.25em;box-sizing: border-box;margin-bottom: 0.5em;}#sk-container-id-1 div.sk-estimator:hover {background-color: #d4ebff;}#sk-container-id-1 div.sk-parallel-item::after {content: \"\";width: 100%;border-bottom: 1px solid gray;flex-grow: 1;}#sk-container-id-1 div.sk-label:hover label.sk-toggleable__label {background-color: #d4ebff;}#sk-container-id-1 div.sk-serial::before {content: \"\";position: absolute;border-left: 1px solid gray;box-sizing: border-box;top: 0;bottom: 0;left: 50%;z-index: 0;}#sk-container-id-1 div.sk-serial {display: flex;flex-direction: column;align-items: center;background-color: white;padding-right: 0.2em;padding-left: 0.2em;position: relative;}#sk-container-id-1 div.sk-item {position: relative;z-index: 1;}#sk-container-id-1 div.sk-parallel {display: flex;align-items: stretch;justify-content: center;background-color: white;position: relative;}#sk-container-id-1 div.sk-item::before, #sk-container-id-1 div.sk-parallel-item::before {content: \"\";position: absolute;border-left: 1px solid gray;box-sizing: border-box;top: 0;bottom: 0;left: 50%;z-index: -1;}#sk-container-id-1 div.sk-parallel-item {display: flex;flex-direction: column;z-index: 1;position: relative;background-color: white;}#sk-container-id-1 div.sk-parallel-item:first-child::after {align-self: flex-end;width: 50%;}#sk-container-id-1 div.sk-parallel-item:last-child::after {align-self: flex-start;width: 50%;}#sk-container-id-1 div.sk-parallel-item:only-child::after {width: 0;}#sk-container-id-1 div.sk-dashed-wrapped {border: 1px dashed gray;margin: 0 0.4em 0.5em 0.4em;box-sizing: border-box;padding-bottom: 0.4em;background-color: white;}#sk-container-id-1 div.sk-label label {font-family: monospace;font-weight: bold;display: inline-block;line-height: 1.2em;}#sk-container-id-1 div.sk-label-container {text-align: center;}#sk-container-id-1 div.sk-container {/* jupyter's `normalize.less` sets `[hidden] { display: none; }` but bootstrap.min.css set `[hidden] { display: none !important; }` so we also need the `!important` here to be able to override the default hidden behavior on the sphinx rendered scikit-learn.org. See: https://github.com/scikit-learn/scikit-learn/issues/21755 */display: inline-block !important;position: relative;}#sk-container-id-1 div.sk-text-repr-fallback {display: none;}</style><div id=\"sk-container-id-1\" class=\"sk-top-container\"><div class=\"sk-text-repr-fallback\"><pre>ColumnTransformer(transformers=[(&#x27;cat&#x27;, OneHotEncoder(handle_unknown=&#x27;ignore&#x27;),\n",
       "                                 [&#x27;default&#x27;, &#x27;housing&#x27;, &#x27;loan&#x27;, &#x27;job&#x27;,\n",
       "                                  &#x27;education&#x27;, &#x27;contact&#x27;, &#x27;month&#x27;, &#x27;poutcome&#x27;,\n",
       "                                  &#x27;marital&#x27;]),\n",
       "                                (&#x27;num&#x27;, StandardScaler(),\n",
       "                                 [&#x27;age&#x27;, &#x27;balance&#x27;, &#x27;day&#x27;, &#x27;duration&#x27;,\n",
       "                                  &#x27;campaign&#x27;, &#x27;pdays&#x27;, &#x27;previous&#x27;])])</pre><b>In a Jupyter environment, please rerun this cell to show the HTML representation or trust the notebook. <br />On GitHub, the HTML representation is unable to render, please try loading this page with nbviewer.org.</b></div><div class=\"sk-container\" hidden><div class=\"sk-item sk-dashed-wrapped\"><div class=\"sk-label-container\"><div class=\"sk-label sk-toggleable\"><input class=\"sk-toggleable__control sk-hidden--visually\" id=\"sk-estimator-id-1\" type=\"checkbox\" ><label for=\"sk-estimator-id-1\" class=\"sk-toggleable__label sk-toggleable__label-arrow\">ColumnTransformer</label><div class=\"sk-toggleable__content\"><pre>ColumnTransformer(transformers=[(&#x27;cat&#x27;, OneHotEncoder(handle_unknown=&#x27;ignore&#x27;),\n",
       "                                 [&#x27;default&#x27;, &#x27;housing&#x27;, &#x27;loan&#x27;, &#x27;job&#x27;,\n",
       "                                  &#x27;education&#x27;, &#x27;contact&#x27;, &#x27;month&#x27;, &#x27;poutcome&#x27;,\n",
       "                                  &#x27;marital&#x27;]),\n",
       "                                (&#x27;num&#x27;, StandardScaler(),\n",
       "                                 [&#x27;age&#x27;, &#x27;balance&#x27;, &#x27;day&#x27;, &#x27;duration&#x27;,\n",
       "                                  &#x27;campaign&#x27;, &#x27;pdays&#x27;, &#x27;previous&#x27;])])</pre></div></div></div><div class=\"sk-parallel\"><div class=\"sk-parallel-item\"><div class=\"sk-item\"><div class=\"sk-label-container\"><div class=\"sk-label sk-toggleable\"><input class=\"sk-toggleable__control sk-hidden--visually\" id=\"sk-estimator-id-2\" type=\"checkbox\" ><label for=\"sk-estimator-id-2\" class=\"sk-toggleable__label sk-toggleable__label-arrow\">cat</label><div class=\"sk-toggleable__content\"><pre>[&#x27;default&#x27;, &#x27;housing&#x27;, &#x27;loan&#x27;, &#x27;job&#x27;, &#x27;education&#x27;, &#x27;contact&#x27;, &#x27;month&#x27;, &#x27;poutcome&#x27;, &#x27;marital&#x27;]</pre></div></div></div><div class=\"sk-serial\"><div class=\"sk-item\"><div class=\"sk-estimator sk-toggleable\"><input class=\"sk-toggleable__control sk-hidden--visually\" id=\"sk-estimator-id-3\" type=\"checkbox\" ><label for=\"sk-estimator-id-3\" class=\"sk-toggleable__label sk-toggleable__label-arrow\">OneHotEncoder</label><div class=\"sk-toggleable__content\"><pre>OneHotEncoder(handle_unknown=&#x27;ignore&#x27;)</pre></div></div></div></div></div></div><div class=\"sk-parallel-item\"><div class=\"sk-item\"><div class=\"sk-label-container\"><div class=\"sk-label sk-toggleable\"><input class=\"sk-toggleable__control sk-hidden--visually\" id=\"sk-estimator-id-4\" type=\"checkbox\" ><label for=\"sk-estimator-id-4\" class=\"sk-toggleable__label sk-toggleable__label-arrow\">num</label><div class=\"sk-toggleable__content\"><pre>[&#x27;age&#x27;, &#x27;balance&#x27;, &#x27;day&#x27;, &#x27;duration&#x27;, &#x27;campaign&#x27;, &#x27;pdays&#x27;, &#x27;previous&#x27;]</pre></div></div></div><div class=\"sk-serial\"><div class=\"sk-item\"><div class=\"sk-estimator sk-toggleable\"><input class=\"sk-toggleable__control sk-hidden--visually\" id=\"sk-estimator-id-5\" type=\"checkbox\" ><label for=\"sk-estimator-id-5\" class=\"sk-toggleable__label sk-toggleable__label-arrow\">StandardScaler</label><div class=\"sk-toggleable__content\"><pre>StandardScaler()</pre></div></div></div></div></div></div></div></div></div></div>"
      ],
      "text/plain": [
       "ColumnTransformer(transformers=[('cat', OneHotEncoder(handle_unknown='ignore'),\n",
       "                                 ['default', 'housing', 'loan', 'job',\n",
       "                                  'education', 'contact', 'month', 'poutcome',\n",
       "                                  'marital']),\n",
       "                                ('num', StandardScaler(),\n",
       "                                 ['age', 'balance', 'day', 'duration',\n",
       "                                  'campaign', 'pdays', 'previous'])])"
      ]
     },
     "execution_count": 7,
     "metadata": {},
     "output_type": "execute_result"
    }
   ],
   "source": [
    "ohe = OneHotEncoder(handle_unknown='ignore')\n",
    "ohe_dense = OneHotEncoder(handle_unknown='ignore', sparse_output=False)\n",
    "\n",
    "column_transformer = ColumnTransformer(transformers=[\n",
    "    ('cat', ohe, cat_features),\n",
    "    ('num', StandardScaler(), num_features),\n",
    "])\n",
    "column_transformer"
   ]
  },
  {
   "cell_type": "markdown",
   "id": "db71cbd5",
   "metadata": {
    "papermill": {
     "duration": 0.006101,
     "end_time": "2025-08-10T13:13:49.167445",
     "exception": false,
     "start_time": "2025-08-10T13:13:49.161344",
     "status": "completed"
    },
    "tags": []
   },
   "source": [
    "## Bagging"
   ]
  },
  {
   "cell_type": "markdown",
   "id": "81187e83",
   "metadata": {
    "papermill": {
     "duration": 0.00627,
     "end_time": "2025-08-10T13:13:49.180181",
     "exception": false,
     "start_time": "2025-08-10T13:13:49.173911",
     "status": "completed"
    },
    "tags": []
   },
   "source": [
    "[Bagging](https://en.wikipedia.org/wiki/Bootstrap_aggregating) is a common technique used in many tree-based classifiers such as [random forest](https://en.wikipedia.org/wiki/Random_forest).\n",
    "\n",
    "By default, [RandomForestClassifier](https://scikit-learn.org/stable/modules/generated/sklearn.ensemble.RandomForestClassifier.html) only selects from $m = \\sqrt{p}$ where `p` is the number of predictors. We set the `max_features = p` so it will select from all features in each split.\n",
    "\n",
    "We also use the [OOB error](https://en.wikipedia.org/wiki/Out-of-bag_error) in-place of cross-validation to estimate the test error."
   ]
  },
  {
   "cell_type": "code",
   "execution_count": 8,
   "id": "e5129a23",
   "metadata": {
    "_kg_hide-output": true,
    "execution": {
     "iopub.execute_input": "2025-08-10T13:13:49.194738Z",
     "iopub.status.busy": "2025-08-10T13:13:49.193878Z",
     "iopub.status.idle": "2025-08-10T13:14:05.667856Z",
     "shell.execute_reply": "2025-08-10T13:14:05.666907Z"
    },
    "papermill": {
     "duration": 16.482756,
     "end_time": "2025-08-10T13:14:05.669360",
     "exception": false,
     "start_time": "2025-08-10T13:13:49.186604",
     "status": "completed"
    },
    "tags": []
   },
   "outputs": [
    {
     "name": "stdout",
     "output_type": "stream",
     "text": [
      "/kaggle/input/ps5e8-bank-data-models/scikitlearn/default/1/bag_model.joblib loaded.\n"
     ]
    },
    {
     "data": {
      "text/html": [
       "<style>#sk-container-id-2 {color: black;background-color: white;}#sk-container-id-2 pre{padding: 0;}#sk-container-id-2 div.sk-toggleable {background-color: white;}#sk-container-id-2 label.sk-toggleable__label {cursor: pointer;display: block;width: 100%;margin-bottom: 0;padding: 0.3em;box-sizing: border-box;text-align: center;}#sk-container-id-2 label.sk-toggleable__label-arrow:before {content: \"▸\";float: left;margin-right: 0.25em;color: #696969;}#sk-container-id-2 label.sk-toggleable__label-arrow:hover:before {color: black;}#sk-container-id-2 div.sk-estimator:hover label.sk-toggleable__label-arrow:before {color: black;}#sk-container-id-2 div.sk-toggleable__content {max-height: 0;max-width: 0;overflow: hidden;text-align: left;background-color: #f0f8ff;}#sk-container-id-2 div.sk-toggleable__content pre {margin: 0.2em;color: black;border-radius: 0.25em;background-color: #f0f8ff;}#sk-container-id-2 input.sk-toggleable__control:checked~div.sk-toggleable__content {max-height: 200px;max-width: 100%;overflow: auto;}#sk-container-id-2 input.sk-toggleable__control:checked~label.sk-toggleable__label-arrow:before {content: \"▾\";}#sk-container-id-2 div.sk-estimator input.sk-toggleable__control:checked~label.sk-toggleable__label {background-color: #d4ebff;}#sk-container-id-2 div.sk-label input.sk-toggleable__control:checked~label.sk-toggleable__label {background-color: #d4ebff;}#sk-container-id-2 input.sk-hidden--visually {border: 0;clip: rect(1px 1px 1px 1px);clip: rect(1px, 1px, 1px, 1px);height: 1px;margin: -1px;overflow: hidden;padding: 0;position: absolute;width: 1px;}#sk-container-id-2 div.sk-estimator {font-family: monospace;background-color: #f0f8ff;border: 1px dotted black;border-radius: 0.25em;box-sizing: border-box;margin-bottom: 0.5em;}#sk-container-id-2 div.sk-estimator:hover {background-color: #d4ebff;}#sk-container-id-2 div.sk-parallel-item::after {content: \"\";width: 100%;border-bottom: 1px solid gray;flex-grow: 1;}#sk-container-id-2 div.sk-label:hover label.sk-toggleable__label {background-color: #d4ebff;}#sk-container-id-2 div.sk-serial::before {content: \"\";position: absolute;border-left: 1px solid gray;box-sizing: border-box;top: 0;bottom: 0;left: 50%;z-index: 0;}#sk-container-id-2 div.sk-serial {display: flex;flex-direction: column;align-items: center;background-color: white;padding-right: 0.2em;padding-left: 0.2em;position: relative;}#sk-container-id-2 div.sk-item {position: relative;z-index: 1;}#sk-container-id-2 div.sk-parallel {display: flex;align-items: stretch;justify-content: center;background-color: white;position: relative;}#sk-container-id-2 div.sk-item::before, #sk-container-id-2 div.sk-parallel-item::before {content: \"\";position: absolute;border-left: 1px solid gray;box-sizing: border-box;top: 0;bottom: 0;left: 50%;z-index: -1;}#sk-container-id-2 div.sk-parallel-item {display: flex;flex-direction: column;z-index: 1;position: relative;background-color: white;}#sk-container-id-2 div.sk-parallel-item:first-child::after {align-self: flex-end;width: 50%;}#sk-container-id-2 div.sk-parallel-item:last-child::after {align-self: flex-start;width: 50%;}#sk-container-id-2 div.sk-parallel-item:only-child::after {width: 0;}#sk-container-id-2 div.sk-dashed-wrapped {border: 1px dashed gray;margin: 0 0.4em 0.5em 0.4em;box-sizing: border-box;padding-bottom: 0.4em;background-color: white;}#sk-container-id-2 div.sk-label label {font-family: monospace;font-weight: bold;display: inline-block;line-height: 1.2em;}#sk-container-id-2 div.sk-label-container {text-align: center;}#sk-container-id-2 div.sk-container {/* jupyter's `normalize.less` sets `[hidden] { display: none; }` but bootstrap.min.css set `[hidden] { display: none !important; }` so we also need the `!important` here to be able to override the default hidden behavior on the sphinx rendered scikit-learn.org. See: https://github.com/scikit-learn/scikit-learn/issues/21755 */display: inline-block !important;position: relative;}#sk-container-id-2 div.sk-text-repr-fallback {display: none;}</style><div id=\"sk-container-id-2\" class=\"sk-top-container\"><div class=\"sk-text-repr-fallback\"><pre>Pipeline(steps=[(&#x27;column_transformer&#x27;,\n",
       "                 ColumnTransformer(transformers=[(&#x27;cat&#x27;,\n",
       "                                                  OneHotEncoder(handle_unknown=&#x27;ignore&#x27;),\n",
       "                                                  [&#x27;default&#x27;, &#x27;housing&#x27;, &#x27;loan&#x27;,\n",
       "                                                   &#x27;job&#x27;, &#x27;education&#x27;,\n",
       "                                                   &#x27;contact&#x27;, &#x27;month&#x27;,\n",
       "                                                   &#x27;poutcome&#x27;, &#x27;marital&#x27;]),\n",
       "                                                 (&#x27;num&#x27;, StandardScaler(),\n",
       "                                                  [&#x27;age&#x27;, &#x27;balance&#x27;, &#x27;day&#x27;,\n",
       "                                                   &#x27;duration&#x27;, &#x27;campaign&#x27;,\n",
       "                                                   &#x27;pdays&#x27;, &#x27;previous&#x27;])])),\n",
       "                (&#x27;classifier&#x27;,\n",
       "                 RandomForestClassifier(max_features=16, n_estimators=500,\n",
       "                                        n_jobs=-1, oob_score=True,\n",
       "                                        random_state=42, verbose=1))])</pre><b>In a Jupyter environment, please rerun this cell to show the HTML representation or trust the notebook. <br />On GitHub, the HTML representation is unable to render, please try loading this page with nbviewer.org.</b></div><div class=\"sk-container\" hidden><div class=\"sk-item sk-dashed-wrapped\"><div class=\"sk-label-container\"><div class=\"sk-label sk-toggleable\"><input class=\"sk-toggleable__control sk-hidden--visually\" id=\"sk-estimator-id-6\" type=\"checkbox\" ><label for=\"sk-estimator-id-6\" class=\"sk-toggleable__label sk-toggleable__label-arrow\">Pipeline</label><div class=\"sk-toggleable__content\"><pre>Pipeline(steps=[(&#x27;column_transformer&#x27;,\n",
       "                 ColumnTransformer(transformers=[(&#x27;cat&#x27;,\n",
       "                                                  OneHotEncoder(handle_unknown=&#x27;ignore&#x27;),\n",
       "                                                  [&#x27;default&#x27;, &#x27;housing&#x27;, &#x27;loan&#x27;,\n",
       "                                                   &#x27;job&#x27;, &#x27;education&#x27;,\n",
       "                                                   &#x27;contact&#x27;, &#x27;month&#x27;,\n",
       "                                                   &#x27;poutcome&#x27;, &#x27;marital&#x27;]),\n",
       "                                                 (&#x27;num&#x27;, StandardScaler(),\n",
       "                                                  [&#x27;age&#x27;, &#x27;balance&#x27;, &#x27;day&#x27;,\n",
       "                                                   &#x27;duration&#x27;, &#x27;campaign&#x27;,\n",
       "                                                   &#x27;pdays&#x27;, &#x27;previous&#x27;])])),\n",
       "                (&#x27;classifier&#x27;,\n",
       "                 RandomForestClassifier(max_features=16, n_estimators=500,\n",
       "                                        n_jobs=-1, oob_score=True,\n",
       "                                        random_state=42, verbose=1))])</pre></div></div></div><div class=\"sk-serial\"><div class=\"sk-item sk-dashed-wrapped\"><div class=\"sk-label-container\"><div class=\"sk-label sk-toggleable\"><input class=\"sk-toggleable__control sk-hidden--visually\" id=\"sk-estimator-id-7\" type=\"checkbox\" ><label for=\"sk-estimator-id-7\" class=\"sk-toggleable__label sk-toggleable__label-arrow\">column_transformer: ColumnTransformer</label><div class=\"sk-toggleable__content\"><pre>ColumnTransformer(transformers=[(&#x27;cat&#x27;, OneHotEncoder(handle_unknown=&#x27;ignore&#x27;),\n",
       "                                 [&#x27;default&#x27;, &#x27;housing&#x27;, &#x27;loan&#x27;, &#x27;job&#x27;,\n",
       "                                  &#x27;education&#x27;, &#x27;contact&#x27;, &#x27;month&#x27;, &#x27;poutcome&#x27;,\n",
       "                                  &#x27;marital&#x27;]),\n",
       "                                (&#x27;num&#x27;, StandardScaler(),\n",
       "                                 [&#x27;age&#x27;, &#x27;balance&#x27;, &#x27;day&#x27;, &#x27;duration&#x27;,\n",
       "                                  &#x27;campaign&#x27;, &#x27;pdays&#x27;, &#x27;previous&#x27;])])</pre></div></div></div><div class=\"sk-parallel\"><div class=\"sk-parallel-item\"><div class=\"sk-item\"><div class=\"sk-label-container\"><div class=\"sk-label sk-toggleable\"><input class=\"sk-toggleable__control sk-hidden--visually\" id=\"sk-estimator-id-8\" type=\"checkbox\" ><label for=\"sk-estimator-id-8\" class=\"sk-toggleable__label sk-toggleable__label-arrow\">cat</label><div class=\"sk-toggleable__content\"><pre>[&#x27;default&#x27;, &#x27;housing&#x27;, &#x27;loan&#x27;, &#x27;job&#x27;, &#x27;education&#x27;, &#x27;contact&#x27;, &#x27;month&#x27;, &#x27;poutcome&#x27;, &#x27;marital&#x27;]</pre></div></div></div><div class=\"sk-serial\"><div class=\"sk-item\"><div class=\"sk-estimator sk-toggleable\"><input class=\"sk-toggleable__control sk-hidden--visually\" id=\"sk-estimator-id-9\" type=\"checkbox\" ><label for=\"sk-estimator-id-9\" class=\"sk-toggleable__label sk-toggleable__label-arrow\">OneHotEncoder</label><div class=\"sk-toggleable__content\"><pre>OneHotEncoder(handle_unknown=&#x27;ignore&#x27;)</pre></div></div></div></div></div></div><div class=\"sk-parallel-item\"><div class=\"sk-item\"><div class=\"sk-label-container\"><div class=\"sk-label sk-toggleable\"><input class=\"sk-toggleable__control sk-hidden--visually\" id=\"sk-estimator-id-10\" type=\"checkbox\" ><label for=\"sk-estimator-id-10\" class=\"sk-toggleable__label sk-toggleable__label-arrow\">num</label><div class=\"sk-toggleable__content\"><pre>[&#x27;age&#x27;, &#x27;balance&#x27;, &#x27;day&#x27;, &#x27;duration&#x27;, &#x27;campaign&#x27;, &#x27;pdays&#x27;, &#x27;previous&#x27;]</pre></div></div></div><div class=\"sk-serial\"><div class=\"sk-item\"><div class=\"sk-estimator sk-toggleable\"><input class=\"sk-toggleable__control sk-hidden--visually\" id=\"sk-estimator-id-11\" type=\"checkbox\" ><label for=\"sk-estimator-id-11\" class=\"sk-toggleable__label sk-toggleable__label-arrow\">StandardScaler</label><div class=\"sk-toggleable__content\"><pre>StandardScaler()</pre></div></div></div></div></div></div></div></div><div class=\"sk-item\"><div class=\"sk-estimator sk-toggleable\"><input class=\"sk-toggleable__control sk-hidden--visually\" id=\"sk-estimator-id-12\" type=\"checkbox\" ><label for=\"sk-estimator-id-12\" class=\"sk-toggleable__label sk-toggleable__label-arrow\">RandomForestClassifier</label><div class=\"sk-toggleable__content\"><pre>RandomForestClassifier(max_features=16, n_estimators=500, n_jobs=-1,\n",
       "                       oob_score=True, random_state=42, verbose=1)</pre></div></div></div></div></div></div></div>"
      ],
      "text/plain": [
       "Pipeline(steps=[('column_transformer',\n",
       "                 ColumnTransformer(transformers=[('cat',\n",
       "                                                  OneHotEncoder(handle_unknown='ignore'),\n",
       "                                                  ['default', 'housing', 'loan',\n",
       "                                                   'job', 'education',\n",
       "                                                   'contact', 'month',\n",
       "                                                   'poutcome', 'marital']),\n",
       "                                                 ('num', StandardScaler(),\n",
       "                                                  ['age', 'balance', 'day',\n",
       "                                                   'duration', 'campaign',\n",
       "                                                   'pdays', 'previous'])])),\n",
       "                ('classifier',\n",
       "                 RandomForestClassifier(max_features=16, n_estimators=500,\n",
       "                                        n_jobs=-1, oob_score=True,\n",
       "                                        random_state=42, verbose=1))])"
      ]
     },
     "execution_count": 8,
     "metadata": {},
     "output_type": "execute_result"
    }
   ],
   "source": [
    "bag_model_filename = 'bag_model.joblib'\n",
    "bag_model = load_model(path.join(MODELS_PATH, bag_model_filename))\n",
    "\n",
    "if bag_model is None:\n",
    "    bag_model = Pipeline(steps=[\n",
    "        ('column_transformer', column_transformer),\n",
    "        ('classifier', RandomForestClassifier(\n",
    "            max_features=X.shape[1],\n",
    "            n_estimators=500,\n",
    "            oob_score=True,\n",
    "            n_jobs=-1,\n",
    "            random_state=RNG_SEED,\n",
    "            verbose=VERBOSITY,\n",
    "        ))\n",
    "    ])\n",
    "    \n",
    "    bag_model.fit(X_train, y_train)\n",
    "\n",
    "bag_model"
   ]
  },
  {
   "cell_type": "markdown",
   "id": "b96c4b9b",
   "metadata": {
    "papermill": {
     "duration": 0.006355,
     "end_time": "2025-08-10T13:14:05.682838",
     "exception": false,
     "start_time": "2025-08-10T13:14:05.676483",
     "status": "completed"
    },
    "tags": []
   },
   "source": [
    "### OOB and test score"
   ]
  },
  {
   "cell_type": "markdown",
   "id": "dea24dc2",
   "metadata": {
    "papermill": {
     "duration": 0.006294,
     "end_time": "2025-08-10T13:14:05.695791",
     "exception": false,
     "start_time": "2025-08-10T13:14:05.689497",
     "status": "completed"
    },
    "tags": []
   },
   "source": [
    "We can observe that the OOB error and the test error is very similar. "
   ]
  },
  {
   "cell_type": "code",
   "execution_count": 9,
   "id": "d00fd2c7",
   "metadata": {
    "execution": {
     "iopub.execute_input": "2025-08-10T13:14:05.710651Z",
     "iopub.status.busy": "2025-08-10T13:14:05.710035Z",
     "iopub.status.idle": "2025-08-10T13:14:17.889314Z",
     "shell.execute_reply": "2025-08-10T13:14:17.888334Z"
    },
    "papermill": {
     "duration": 12.188267,
     "end_time": "2025-08-10T13:14:17.890697",
     "exception": false,
     "start_time": "2025-08-10T13:14:05.702430",
     "status": "completed"
    },
    "tags": []
   },
   "outputs": [
    {
     "name": "stderr",
     "output_type": "stream",
     "text": [
      "[Parallel(n_jobs=4)]: Using backend ThreadingBackend with 4 concurrent workers.\n",
      "[Parallel(n_jobs=4)]: Done  42 tasks      | elapsed:    1.0s\n",
      "[Parallel(n_jobs=4)]: Done 192 tasks      | elapsed:    4.2s\n",
      "[Parallel(n_jobs=4)]: Done 442 tasks      | elapsed:    9.6s\n",
      "[Parallel(n_jobs=4)]: Done 500 out of 500 | elapsed:   11.1s finished\n"
     ]
    },
    {
     "data": {
      "text/plain": [
       "(0.9633260121518018, 0.9634408588254115)"
      ]
     },
     "execution_count": 9,
     "metadata": {},
     "output_type": "execute_result"
    }
   ],
   "source": [
    "clf = bag_model.named_steps['classifier']\n",
    "\n",
    "oob_score = roc_auc_score(y_train, clf.oob_decision_function_[:, 1])\n",
    "test_score = roc_auc_score(y_test, bag_model.predict_proba(X_test)[:, 1])\n",
    "oob_score, test_score"
   ]
  },
  {
   "cell_type": "code",
   "execution_count": 10,
   "id": "b97818dc",
   "metadata": {
    "_kg_hide-input": true,
    "execution": {
     "iopub.execute_input": "2025-08-10T13:14:17.908201Z",
     "iopub.status.busy": "2025-08-10T13:14:17.907866Z",
     "iopub.status.idle": "2025-08-10T13:14:50.333623Z",
     "shell.execute_reply": "2025-08-10T13:14:50.332556Z"
    },
    "papermill": {
     "duration": 32.442369,
     "end_time": "2025-08-10T13:14:50.342102",
     "exception": false,
     "start_time": "2025-08-10T13:14:17.899733",
     "status": "completed"
    },
    "tags": []
   },
   "outputs": [
    {
     "name": "stdout",
     "output_type": "stream",
     "text": [
      "bag_model.joblib saved.\n"
     ]
    }
   ],
   "source": [
    "save_model(bag_model, bag_model_filename)"
   ]
  },
  {
   "cell_type": "markdown",
   "id": "ca48d55b",
   "metadata": {
    "papermill": {
     "duration": 0.073321,
     "end_time": "2025-08-10T13:14:50.422707",
     "exception": false,
     "start_time": "2025-08-10T13:14:50.349386",
     "status": "completed"
    },
    "tags": []
   },
   "source": [
    "## Random Forest"
   ]
  },
  {
   "cell_type": "markdown",
   "id": "d15baa7c",
   "metadata": {
    "papermill": {
     "duration": 0.007088,
     "end_time": "2025-08-10T13:14:50.437557",
     "exception": false,
     "start_time": "2025-08-10T13:14:50.430469",
     "status": "completed"
    },
    "tags": []
   },
   "source": [
    "We use the same parameters as above, except now use the default `max_features` which is equal to $m = \\sqrt{p}$ predictors. This means we consider only a fraction of the predictors unlike the bagged classifier which considers all predictors in each split."
   ]
  },
  {
   "cell_type": "code",
   "execution_count": 11,
   "id": "3eb7b3a0",
   "metadata": {
    "_kg_hide-output": true,
    "execution": {
     "iopub.execute_input": "2025-08-10T13:14:50.454019Z",
     "iopub.status.busy": "2025-08-10T13:14:50.453049Z",
     "iopub.status.idle": "2025-08-10T13:15:10.618568Z",
     "shell.execute_reply": "2025-08-10T13:15:10.617729Z"
    },
    "papermill": {
     "duration": 20.175249,
     "end_time": "2025-08-10T13:15:10.619959",
     "exception": false,
     "start_time": "2025-08-10T13:14:50.444710",
     "status": "completed"
    },
    "tags": []
   },
   "outputs": [
    {
     "name": "stdout",
     "output_type": "stream",
     "text": [
      "/kaggle/input/ps5e8-bank-data-models/scikitlearn/default/1/rf_model.joblib loaded.\n"
     ]
    },
    {
     "data": {
      "text/html": [
       "<style>#sk-container-id-3 {color: black;background-color: white;}#sk-container-id-3 pre{padding: 0;}#sk-container-id-3 div.sk-toggleable {background-color: white;}#sk-container-id-3 label.sk-toggleable__label {cursor: pointer;display: block;width: 100%;margin-bottom: 0;padding: 0.3em;box-sizing: border-box;text-align: center;}#sk-container-id-3 label.sk-toggleable__label-arrow:before {content: \"▸\";float: left;margin-right: 0.25em;color: #696969;}#sk-container-id-3 label.sk-toggleable__label-arrow:hover:before {color: black;}#sk-container-id-3 div.sk-estimator:hover label.sk-toggleable__label-arrow:before {color: black;}#sk-container-id-3 div.sk-toggleable__content {max-height: 0;max-width: 0;overflow: hidden;text-align: left;background-color: #f0f8ff;}#sk-container-id-3 div.sk-toggleable__content pre {margin: 0.2em;color: black;border-radius: 0.25em;background-color: #f0f8ff;}#sk-container-id-3 input.sk-toggleable__control:checked~div.sk-toggleable__content {max-height: 200px;max-width: 100%;overflow: auto;}#sk-container-id-3 input.sk-toggleable__control:checked~label.sk-toggleable__label-arrow:before {content: \"▾\";}#sk-container-id-3 div.sk-estimator input.sk-toggleable__control:checked~label.sk-toggleable__label {background-color: #d4ebff;}#sk-container-id-3 div.sk-label input.sk-toggleable__control:checked~label.sk-toggleable__label {background-color: #d4ebff;}#sk-container-id-3 input.sk-hidden--visually {border: 0;clip: rect(1px 1px 1px 1px);clip: rect(1px, 1px, 1px, 1px);height: 1px;margin: -1px;overflow: hidden;padding: 0;position: absolute;width: 1px;}#sk-container-id-3 div.sk-estimator {font-family: monospace;background-color: #f0f8ff;border: 1px dotted black;border-radius: 0.25em;box-sizing: border-box;margin-bottom: 0.5em;}#sk-container-id-3 div.sk-estimator:hover {background-color: #d4ebff;}#sk-container-id-3 div.sk-parallel-item::after {content: \"\";width: 100%;border-bottom: 1px solid gray;flex-grow: 1;}#sk-container-id-3 div.sk-label:hover label.sk-toggleable__label {background-color: #d4ebff;}#sk-container-id-3 div.sk-serial::before {content: \"\";position: absolute;border-left: 1px solid gray;box-sizing: border-box;top: 0;bottom: 0;left: 50%;z-index: 0;}#sk-container-id-3 div.sk-serial {display: flex;flex-direction: column;align-items: center;background-color: white;padding-right: 0.2em;padding-left: 0.2em;position: relative;}#sk-container-id-3 div.sk-item {position: relative;z-index: 1;}#sk-container-id-3 div.sk-parallel {display: flex;align-items: stretch;justify-content: center;background-color: white;position: relative;}#sk-container-id-3 div.sk-item::before, #sk-container-id-3 div.sk-parallel-item::before {content: \"\";position: absolute;border-left: 1px solid gray;box-sizing: border-box;top: 0;bottom: 0;left: 50%;z-index: -1;}#sk-container-id-3 div.sk-parallel-item {display: flex;flex-direction: column;z-index: 1;position: relative;background-color: white;}#sk-container-id-3 div.sk-parallel-item:first-child::after {align-self: flex-end;width: 50%;}#sk-container-id-3 div.sk-parallel-item:last-child::after {align-self: flex-start;width: 50%;}#sk-container-id-3 div.sk-parallel-item:only-child::after {width: 0;}#sk-container-id-3 div.sk-dashed-wrapped {border: 1px dashed gray;margin: 0 0.4em 0.5em 0.4em;box-sizing: border-box;padding-bottom: 0.4em;background-color: white;}#sk-container-id-3 div.sk-label label {font-family: monospace;font-weight: bold;display: inline-block;line-height: 1.2em;}#sk-container-id-3 div.sk-label-container {text-align: center;}#sk-container-id-3 div.sk-container {/* jupyter's `normalize.less` sets `[hidden] { display: none; }` but bootstrap.min.css set `[hidden] { display: none !important; }` so we also need the `!important` here to be able to override the default hidden behavior on the sphinx rendered scikit-learn.org. See: https://github.com/scikit-learn/scikit-learn/issues/21755 */display: inline-block !important;position: relative;}#sk-container-id-3 div.sk-text-repr-fallback {display: none;}</style><div id=\"sk-container-id-3\" class=\"sk-top-container\"><div class=\"sk-text-repr-fallback\"><pre>Pipeline(steps=[(&#x27;column_transformer&#x27;,\n",
       "                 ColumnTransformer(transformers=[(&#x27;cat&#x27;,\n",
       "                                                  OneHotEncoder(handle_unknown=&#x27;ignore&#x27;),\n",
       "                                                  [&#x27;default&#x27;, &#x27;housing&#x27;, &#x27;loan&#x27;,\n",
       "                                                   &#x27;job&#x27;, &#x27;education&#x27;,\n",
       "                                                   &#x27;contact&#x27;, &#x27;month&#x27;,\n",
       "                                                   &#x27;poutcome&#x27;, &#x27;marital&#x27;]),\n",
       "                                                 (&#x27;num&#x27;, StandardScaler(),\n",
       "                                                  [&#x27;age&#x27;, &#x27;balance&#x27;, &#x27;day&#x27;,\n",
       "                                                   &#x27;duration&#x27;, &#x27;campaign&#x27;,\n",
       "                                                   &#x27;pdays&#x27;, &#x27;previous&#x27;])])),\n",
       "                (&#x27;classifier&#x27;,\n",
       "                 RandomForestClassifier(n_estimators=500, n_jobs=-1,\n",
       "                                        oob_score=True, random_state=42,\n",
       "                                        verbose=1))])</pre><b>In a Jupyter environment, please rerun this cell to show the HTML representation or trust the notebook. <br />On GitHub, the HTML representation is unable to render, please try loading this page with nbviewer.org.</b></div><div class=\"sk-container\" hidden><div class=\"sk-item sk-dashed-wrapped\"><div class=\"sk-label-container\"><div class=\"sk-label sk-toggleable\"><input class=\"sk-toggleable__control sk-hidden--visually\" id=\"sk-estimator-id-13\" type=\"checkbox\" ><label for=\"sk-estimator-id-13\" class=\"sk-toggleable__label sk-toggleable__label-arrow\">Pipeline</label><div class=\"sk-toggleable__content\"><pre>Pipeline(steps=[(&#x27;column_transformer&#x27;,\n",
       "                 ColumnTransformer(transformers=[(&#x27;cat&#x27;,\n",
       "                                                  OneHotEncoder(handle_unknown=&#x27;ignore&#x27;),\n",
       "                                                  [&#x27;default&#x27;, &#x27;housing&#x27;, &#x27;loan&#x27;,\n",
       "                                                   &#x27;job&#x27;, &#x27;education&#x27;,\n",
       "                                                   &#x27;contact&#x27;, &#x27;month&#x27;,\n",
       "                                                   &#x27;poutcome&#x27;, &#x27;marital&#x27;]),\n",
       "                                                 (&#x27;num&#x27;, StandardScaler(),\n",
       "                                                  [&#x27;age&#x27;, &#x27;balance&#x27;, &#x27;day&#x27;,\n",
       "                                                   &#x27;duration&#x27;, &#x27;campaign&#x27;,\n",
       "                                                   &#x27;pdays&#x27;, &#x27;previous&#x27;])])),\n",
       "                (&#x27;classifier&#x27;,\n",
       "                 RandomForestClassifier(n_estimators=500, n_jobs=-1,\n",
       "                                        oob_score=True, random_state=42,\n",
       "                                        verbose=1))])</pre></div></div></div><div class=\"sk-serial\"><div class=\"sk-item sk-dashed-wrapped\"><div class=\"sk-label-container\"><div class=\"sk-label sk-toggleable\"><input class=\"sk-toggleable__control sk-hidden--visually\" id=\"sk-estimator-id-14\" type=\"checkbox\" ><label for=\"sk-estimator-id-14\" class=\"sk-toggleable__label sk-toggleable__label-arrow\">column_transformer: ColumnTransformer</label><div class=\"sk-toggleable__content\"><pre>ColumnTransformer(transformers=[(&#x27;cat&#x27;, OneHotEncoder(handle_unknown=&#x27;ignore&#x27;),\n",
       "                                 [&#x27;default&#x27;, &#x27;housing&#x27;, &#x27;loan&#x27;, &#x27;job&#x27;,\n",
       "                                  &#x27;education&#x27;, &#x27;contact&#x27;, &#x27;month&#x27;, &#x27;poutcome&#x27;,\n",
       "                                  &#x27;marital&#x27;]),\n",
       "                                (&#x27;num&#x27;, StandardScaler(),\n",
       "                                 [&#x27;age&#x27;, &#x27;balance&#x27;, &#x27;day&#x27;, &#x27;duration&#x27;,\n",
       "                                  &#x27;campaign&#x27;, &#x27;pdays&#x27;, &#x27;previous&#x27;])])</pre></div></div></div><div class=\"sk-parallel\"><div class=\"sk-parallel-item\"><div class=\"sk-item\"><div class=\"sk-label-container\"><div class=\"sk-label sk-toggleable\"><input class=\"sk-toggleable__control sk-hidden--visually\" id=\"sk-estimator-id-15\" type=\"checkbox\" ><label for=\"sk-estimator-id-15\" class=\"sk-toggleable__label sk-toggleable__label-arrow\">cat</label><div class=\"sk-toggleable__content\"><pre>[&#x27;default&#x27;, &#x27;housing&#x27;, &#x27;loan&#x27;, &#x27;job&#x27;, &#x27;education&#x27;, &#x27;contact&#x27;, &#x27;month&#x27;, &#x27;poutcome&#x27;, &#x27;marital&#x27;]</pre></div></div></div><div class=\"sk-serial\"><div class=\"sk-item\"><div class=\"sk-estimator sk-toggleable\"><input class=\"sk-toggleable__control sk-hidden--visually\" id=\"sk-estimator-id-16\" type=\"checkbox\" ><label for=\"sk-estimator-id-16\" class=\"sk-toggleable__label sk-toggleable__label-arrow\">OneHotEncoder</label><div class=\"sk-toggleable__content\"><pre>OneHotEncoder(handle_unknown=&#x27;ignore&#x27;)</pre></div></div></div></div></div></div><div class=\"sk-parallel-item\"><div class=\"sk-item\"><div class=\"sk-label-container\"><div class=\"sk-label sk-toggleable\"><input class=\"sk-toggleable__control sk-hidden--visually\" id=\"sk-estimator-id-17\" type=\"checkbox\" ><label for=\"sk-estimator-id-17\" class=\"sk-toggleable__label sk-toggleable__label-arrow\">num</label><div class=\"sk-toggleable__content\"><pre>[&#x27;age&#x27;, &#x27;balance&#x27;, &#x27;day&#x27;, &#x27;duration&#x27;, &#x27;campaign&#x27;, &#x27;pdays&#x27;, &#x27;previous&#x27;]</pre></div></div></div><div class=\"sk-serial\"><div class=\"sk-item\"><div class=\"sk-estimator sk-toggleable\"><input class=\"sk-toggleable__control sk-hidden--visually\" id=\"sk-estimator-id-18\" type=\"checkbox\" ><label for=\"sk-estimator-id-18\" class=\"sk-toggleable__label sk-toggleable__label-arrow\">StandardScaler</label><div class=\"sk-toggleable__content\"><pre>StandardScaler()</pre></div></div></div></div></div></div></div></div><div class=\"sk-item\"><div class=\"sk-estimator sk-toggleable\"><input class=\"sk-toggleable__control sk-hidden--visually\" id=\"sk-estimator-id-19\" type=\"checkbox\" ><label for=\"sk-estimator-id-19\" class=\"sk-toggleable__label sk-toggleable__label-arrow\">RandomForestClassifier</label><div class=\"sk-toggleable__content\"><pre>RandomForestClassifier(n_estimators=500, n_jobs=-1, oob_score=True,\n",
       "                       random_state=42, verbose=1)</pre></div></div></div></div></div></div></div>"
      ],
      "text/plain": [
       "Pipeline(steps=[('column_transformer',\n",
       "                 ColumnTransformer(transformers=[('cat',\n",
       "                                                  OneHotEncoder(handle_unknown='ignore'),\n",
       "                                                  ['default', 'housing', 'loan',\n",
       "                                                   'job', 'education',\n",
       "                                                   'contact', 'month',\n",
       "                                                   'poutcome', 'marital']),\n",
       "                                                 ('num', StandardScaler(),\n",
       "                                                  ['age', 'balance', 'day',\n",
       "                                                   'duration', 'campaign',\n",
       "                                                   'pdays', 'previous'])])),\n",
       "                ('classifier',\n",
       "                 RandomForestClassifier(n_estimators=500, n_jobs=-1,\n",
       "                                        oob_score=True, random_state=42,\n",
       "                                        verbose=1))])"
      ]
     },
     "execution_count": 11,
     "metadata": {},
     "output_type": "execute_result"
    }
   ],
   "source": [
    "rf_model_filename = 'rf_model.joblib'\n",
    "rf_model = load_model(path.join(MODELS_PATH, rf_model_filename))\n",
    "\n",
    "if rf_model is None:\n",
    "    rf_model = Pipeline(steps=[\n",
    "        ('column_transformer', column_transformer),\n",
    "        ('classifier', RandomForestClassifier(\n",
    "            n_estimators=500,\n",
    "            oob_score=True,\n",
    "            n_jobs=-1,\n",
    "            random_state=RNG_SEED,\n",
    "            verbose=VERBOSITY,\n",
    "        ))\n",
    "    ])\n",
    "    \n",
    "    rf_model.fit(X_train, y_train)\n",
    "\n",
    "rf_model"
   ]
  },
  {
   "cell_type": "markdown",
   "id": "f3accfe7",
   "metadata": {
    "papermill": {
     "duration": 0.007103,
     "end_time": "2025-08-10T13:15:10.634948",
     "exception": false,
     "start_time": "2025-08-10T13:15:10.627845",
     "status": "completed"
    },
    "tags": []
   },
   "source": [
    "### OOB and test score"
   ]
  },
  {
   "cell_type": "markdown",
   "id": "b90ee6a0",
   "metadata": {
    "papermill": {
     "duration": 0.007098,
     "end_time": "2025-08-10T13:15:10.649444",
     "exception": false,
     "start_time": "2025-08-10T13:15:10.642346",
     "status": "completed"
    },
    "tags": []
   },
   "source": [
    "As with above, use OOB error to estimate the test error."
   ]
  },
  {
   "cell_type": "code",
   "execution_count": 12,
   "id": "361ac8dd",
   "metadata": {
    "execution": {
     "iopub.execute_input": "2025-08-10T13:15:10.665997Z",
     "iopub.status.busy": "2025-08-10T13:15:10.665673Z",
     "iopub.status.idle": "2025-08-10T13:15:25.678101Z",
     "shell.execute_reply": "2025-08-10T13:15:25.677104Z"
    },
    "papermill": {
     "duration": 15.022634,
     "end_time": "2025-08-10T13:15:25.679721",
     "exception": false,
     "start_time": "2025-08-10T13:15:10.657087",
     "status": "completed"
    },
    "tags": []
   },
   "outputs": [
    {
     "name": "stderr",
     "output_type": "stream",
     "text": [
      "[Parallel(n_jobs=4)]: Using backend ThreadingBackend with 4 concurrent workers.\n",
      "[Parallel(n_jobs=4)]: Done  42 tasks      | elapsed:    1.1s\n",
      "[Parallel(n_jobs=4)]: Done 192 tasks      | elapsed:    5.2s\n",
      "[Parallel(n_jobs=4)]: Done 442 tasks      | elapsed:   12.2s\n",
      "[Parallel(n_jobs=4)]: Done 500 out of 500 | elapsed:   13.7s finished\n"
     ]
    },
    {
     "data": {
      "text/plain": [
       "(0.9616230906879348, 0.961895653437245)"
      ]
     },
     "execution_count": 12,
     "metadata": {},
     "output_type": "execute_result"
    }
   ],
   "source": [
    "clf = rf_model.named_steps['classifier']\n",
    "\n",
    "oob_score = roc_auc_score(y_train, clf.oob_decision_function_[:, 1])\n",
    "test_score = roc_auc_score(y_test, rf_model.predict_proba(X_test)[:, 1])\n",
    "oob_score, test_score"
   ]
  },
  {
   "cell_type": "code",
   "execution_count": 13,
   "id": "b7830ec8",
   "metadata": {
    "_kg_hide-input": true,
    "execution": {
     "iopub.execute_input": "2025-08-10T13:15:25.697402Z",
     "iopub.status.busy": "2025-08-10T13:15:25.697090Z",
     "iopub.status.idle": "2025-08-10T13:16:09.092314Z",
     "shell.execute_reply": "2025-08-10T13:16:09.091393Z"
    },
    "papermill": {
     "duration": 43.412737,
     "end_time": "2025-08-10T13:16:09.100906",
     "exception": false,
     "start_time": "2025-08-10T13:15:25.688169",
     "status": "completed"
    },
    "tags": []
   },
   "outputs": [
    {
     "name": "stdout",
     "output_type": "stream",
     "text": [
      "rf_model.joblib saved.\n"
     ]
    }
   ],
   "source": [
    "save_model(rf_model, rf_model_filename)"
   ]
  },
  {
   "cell_type": "markdown",
   "id": "f44a6002",
   "metadata": {
    "papermill": {
     "duration": 0.007742,
     "end_time": "2025-08-10T13:16:09.116839",
     "exception": false,
     "start_time": "2025-08-10T13:16:09.109097",
     "status": "completed"
    },
    "tags": []
   },
   "source": [
    "## Boosting"
   ]
  },
  {
   "cell_type": "markdown",
   "id": "561706f5",
   "metadata": {
    "papermill": {
     "duration": 0.007704,
     "end_time": "2025-08-10T13:16:09.132633",
     "exception": false,
     "start_time": "2025-08-10T13:16:09.124929",
     "status": "completed"
    },
    "tags": []
   },
   "source": [
    "We use the [HistGradientBoostingClassifier](https://scikit-learn.org/stable/modules/generated/sklearn.ensemble.HistGradientBoostingClassifier.html) as it is recommended to be faster than [GradientBoostingClassifier](https://scikit-learn.org/stable/modules/generated/sklearn.ensemble.GradientBoostingClassifier.html)."
   ]
  },
  {
   "cell_type": "code",
   "execution_count": 14,
   "id": "7d822e25",
   "metadata": {
    "_kg_hide-output": true,
    "execution": {
     "iopub.execute_input": "2025-08-10T13:16:09.149935Z",
     "iopub.status.busy": "2025-08-10T13:16:09.149619Z",
     "iopub.status.idle": "2025-08-10T13:16:09.207961Z",
     "shell.execute_reply": "2025-08-10T13:16:09.207034Z"
    },
    "papermill": {
     "duration": 0.068766,
     "end_time": "2025-08-10T13:16:09.209446",
     "exception": false,
     "start_time": "2025-08-10T13:16:09.140680",
     "status": "completed"
    },
    "tags": []
   },
   "outputs": [
    {
     "name": "stdout",
     "output_type": "stream",
     "text": [
      "/kaggle/input/ps5e8-bank-data-models/scikitlearn/default/1/gb_model.joblib loaded.\n"
     ]
    },
    {
     "data": {
      "text/html": [
       "<style>#sk-container-id-4 {color: black;background-color: white;}#sk-container-id-4 pre{padding: 0;}#sk-container-id-4 div.sk-toggleable {background-color: white;}#sk-container-id-4 label.sk-toggleable__label {cursor: pointer;display: block;width: 100%;margin-bottom: 0;padding: 0.3em;box-sizing: border-box;text-align: center;}#sk-container-id-4 label.sk-toggleable__label-arrow:before {content: \"▸\";float: left;margin-right: 0.25em;color: #696969;}#sk-container-id-4 label.sk-toggleable__label-arrow:hover:before {color: black;}#sk-container-id-4 div.sk-estimator:hover label.sk-toggleable__label-arrow:before {color: black;}#sk-container-id-4 div.sk-toggleable__content {max-height: 0;max-width: 0;overflow: hidden;text-align: left;background-color: #f0f8ff;}#sk-container-id-4 div.sk-toggleable__content pre {margin: 0.2em;color: black;border-radius: 0.25em;background-color: #f0f8ff;}#sk-container-id-4 input.sk-toggleable__control:checked~div.sk-toggleable__content {max-height: 200px;max-width: 100%;overflow: auto;}#sk-container-id-4 input.sk-toggleable__control:checked~label.sk-toggleable__label-arrow:before {content: \"▾\";}#sk-container-id-4 div.sk-estimator input.sk-toggleable__control:checked~label.sk-toggleable__label {background-color: #d4ebff;}#sk-container-id-4 div.sk-label input.sk-toggleable__control:checked~label.sk-toggleable__label {background-color: #d4ebff;}#sk-container-id-4 input.sk-hidden--visually {border: 0;clip: rect(1px 1px 1px 1px);clip: rect(1px, 1px, 1px, 1px);height: 1px;margin: -1px;overflow: hidden;padding: 0;position: absolute;width: 1px;}#sk-container-id-4 div.sk-estimator {font-family: monospace;background-color: #f0f8ff;border: 1px dotted black;border-radius: 0.25em;box-sizing: border-box;margin-bottom: 0.5em;}#sk-container-id-4 div.sk-estimator:hover {background-color: #d4ebff;}#sk-container-id-4 div.sk-parallel-item::after {content: \"\";width: 100%;border-bottom: 1px solid gray;flex-grow: 1;}#sk-container-id-4 div.sk-label:hover label.sk-toggleable__label {background-color: #d4ebff;}#sk-container-id-4 div.sk-serial::before {content: \"\";position: absolute;border-left: 1px solid gray;box-sizing: border-box;top: 0;bottom: 0;left: 50%;z-index: 0;}#sk-container-id-4 div.sk-serial {display: flex;flex-direction: column;align-items: center;background-color: white;padding-right: 0.2em;padding-left: 0.2em;position: relative;}#sk-container-id-4 div.sk-item {position: relative;z-index: 1;}#sk-container-id-4 div.sk-parallel {display: flex;align-items: stretch;justify-content: center;background-color: white;position: relative;}#sk-container-id-4 div.sk-item::before, #sk-container-id-4 div.sk-parallel-item::before {content: \"\";position: absolute;border-left: 1px solid gray;box-sizing: border-box;top: 0;bottom: 0;left: 50%;z-index: -1;}#sk-container-id-4 div.sk-parallel-item {display: flex;flex-direction: column;z-index: 1;position: relative;background-color: white;}#sk-container-id-4 div.sk-parallel-item:first-child::after {align-self: flex-end;width: 50%;}#sk-container-id-4 div.sk-parallel-item:last-child::after {align-self: flex-start;width: 50%;}#sk-container-id-4 div.sk-parallel-item:only-child::after {width: 0;}#sk-container-id-4 div.sk-dashed-wrapped {border: 1px dashed gray;margin: 0 0.4em 0.5em 0.4em;box-sizing: border-box;padding-bottom: 0.4em;background-color: white;}#sk-container-id-4 div.sk-label label {font-family: monospace;font-weight: bold;display: inline-block;line-height: 1.2em;}#sk-container-id-4 div.sk-label-container {text-align: center;}#sk-container-id-4 div.sk-container {/* jupyter's `normalize.less` sets `[hidden] { display: none; }` but bootstrap.min.css set `[hidden] { display: none !important; }` so we also need the `!important` here to be able to override the default hidden behavior on the sphinx rendered scikit-learn.org. See: https://github.com/scikit-learn/scikit-learn/issues/21755 */display: inline-block !important;position: relative;}#sk-container-id-4 div.sk-text-repr-fallback {display: none;}</style><div id=\"sk-container-id-4\" class=\"sk-top-container\"><div class=\"sk-text-repr-fallback\"><pre>Pipeline(steps=[(&#x27;column_transformer&#x27;,\n",
       "                 ColumnTransformer(transformers=[(&#x27;cat&#x27;,\n",
       "                                                  OneHotEncoder(handle_unknown=&#x27;ignore&#x27;),\n",
       "                                                  [&#x27;default&#x27;, &#x27;housing&#x27;, &#x27;loan&#x27;,\n",
       "                                                   &#x27;job&#x27;, &#x27;education&#x27;,\n",
       "                                                   &#x27;contact&#x27;, &#x27;month&#x27;,\n",
       "                                                   &#x27;poutcome&#x27;, &#x27;marital&#x27;]),\n",
       "                                                 (&#x27;num&#x27;, StandardScaler(),\n",
       "                                                  [&#x27;age&#x27;, &#x27;balance&#x27;, &#x27;day&#x27;,\n",
       "                                                   &#x27;duration&#x27;, &#x27;campaign&#x27;,\n",
       "                                                   &#x27;pdays&#x27;, &#x27;previous&#x27;])])),\n",
       "                (&#x27;classifier&#x27;,\n",
       "                 HistGradientBoostingClassifier(max_iter=3000, random_state=42,\n",
       "                                                scoring=&#x27;roc_auc&#x27;))])</pre><b>In a Jupyter environment, please rerun this cell to show the HTML representation or trust the notebook. <br />On GitHub, the HTML representation is unable to render, please try loading this page with nbviewer.org.</b></div><div class=\"sk-container\" hidden><div class=\"sk-item sk-dashed-wrapped\"><div class=\"sk-label-container\"><div class=\"sk-label sk-toggleable\"><input class=\"sk-toggleable__control sk-hidden--visually\" id=\"sk-estimator-id-20\" type=\"checkbox\" ><label for=\"sk-estimator-id-20\" class=\"sk-toggleable__label sk-toggleable__label-arrow\">Pipeline</label><div class=\"sk-toggleable__content\"><pre>Pipeline(steps=[(&#x27;column_transformer&#x27;,\n",
       "                 ColumnTransformer(transformers=[(&#x27;cat&#x27;,\n",
       "                                                  OneHotEncoder(handle_unknown=&#x27;ignore&#x27;),\n",
       "                                                  [&#x27;default&#x27;, &#x27;housing&#x27;, &#x27;loan&#x27;,\n",
       "                                                   &#x27;job&#x27;, &#x27;education&#x27;,\n",
       "                                                   &#x27;contact&#x27;, &#x27;month&#x27;,\n",
       "                                                   &#x27;poutcome&#x27;, &#x27;marital&#x27;]),\n",
       "                                                 (&#x27;num&#x27;, StandardScaler(),\n",
       "                                                  [&#x27;age&#x27;, &#x27;balance&#x27;, &#x27;day&#x27;,\n",
       "                                                   &#x27;duration&#x27;, &#x27;campaign&#x27;,\n",
       "                                                   &#x27;pdays&#x27;, &#x27;previous&#x27;])])),\n",
       "                (&#x27;classifier&#x27;,\n",
       "                 HistGradientBoostingClassifier(max_iter=3000, random_state=42,\n",
       "                                                scoring=&#x27;roc_auc&#x27;))])</pre></div></div></div><div class=\"sk-serial\"><div class=\"sk-item sk-dashed-wrapped\"><div class=\"sk-label-container\"><div class=\"sk-label sk-toggleable\"><input class=\"sk-toggleable__control sk-hidden--visually\" id=\"sk-estimator-id-21\" type=\"checkbox\" ><label for=\"sk-estimator-id-21\" class=\"sk-toggleable__label sk-toggleable__label-arrow\">column_transformer: ColumnTransformer</label><div class=\"sk-toggleable__content\"><pre>ColumnTransformer(transformers=[(&#x27;cat&#x27;, OneHotEncoder(handle_unknown=&#x27;ignore&#x27;),\n",
       "                                 [&#x27;default&#x27;, &#x27;housing&#x27;, &#x27;loan&#x27;, &#x27;job&#x27;,\n",
       "                                  &#x27;education&#x27;, &#x27;contact&#x27;, &#x27;month&#x27;, &#x27;poutcome&#x27;,\n",
       "                                  &#x27;marital&#x27;]),\n",
       "                                (&#x27;num&#x27;, StandardScaler(),\n",
       "                                 [&#x27;age&#x27;, &#x27;balance&#x27;, &#x27;day&#x27;, &#x27;duration&#x27;,\n",
       "                                  &#x27;campaign&#x27;, &#x27;pdays&#x27;, &#x27;previous&#x27;])])</pre></div></div></div><div class=\"sk-parallel\"><div class=\"sk-parallel-item\"><div class=\"sk-item\"><div class=\"sk-label-container\"><div class=\"sk-label sk-toggleable\"><input class=\"sk-toggleable__control sk-hidden--visually\" id=\"sk-estimator-id-22\" type=\"checkbox\" ><label for=\"sk-estimator-id-22\" class=\"sk-toggleable__label sk-toggleable__label-arrow\">cat</label><div class=\"sk-toggleable__content\"><pre>[&#x27;default&#x27;, &#x27;housing&#x27;, &#x27;loan&#x27;, &#x27;job&#x27;, &#x27;education&#x27;, &#x27;contact&#x27;, &#x27;month&#x27;, &#x27;poutcome&#x27;, &#x27;marital&#x27;]</pre></div></div></div><div class=\"sk-serial\"><div class=\"sk-item\"><div class=\"sk-estimator sk-toggleable\"><input class=\"sk-toggleable__control sk-hidden--visually\" id=\"sk-estimator-id-23\" type=\"checkbox\" ><label for=\"sk-estimator-id-23\" class=\"sk-toggleable__label sk-toggleable__label-arrow\">OneHotEncoder</label><div class=\"sk-toggleable__content\"><pre>OneHotEncoder(handle_unknown=&#x27;ignore&#x27;)</pre></div></div></div></div></div></div><div class=\"sk-parallel-item\"><div class=\"sk-item\"><div class=\"sk-label-container\"><div class=\"sk-label sk-toggleable\"><input class=\"sk-toggleable__control sk-hidden--visually\" id=\"sk-estimator-id-24\" type=\"checkbox\" ><label for=\"sk-estimator-id-24\" class=\"sk-toggleable__label sk-toggleable__label-arrow\">num</label><div class=\"sk-toggleable__content\"><pre>[&#x27;age&#x27;, &#x27;balance&#x27;, &#x27;day&#x27;, &#x27;duration&#x27;, &#x27;campaign&#x27;, &#x27;pdays&#x27;, &#x27;previous&#x27;]</pre></div></div></div><div class=\"sk-serial\"><div class=\"sk-item\"><div class=\"sk-estimator sk-toggleable\"><input class=\"sk-toggleable__control sk-hidden--visually\" id=\"sk-estimator-id-25\" type=\"checkbox\" ><label for=\"sk-estimator-id-25\" class=\"sk-toggleable__label sk-toggleable__label-arrow\">StandardScaler</label><div class=\"sk-toggleable__content\"><pre>StandardScaler()</pre></div></div></div></div></div></div></div></div><div class=\"sk-item\"><div class=\"sk-estimator sk-toggleable\"><input class=\"sk-toggleable__control sk-hidden--visually\" id=\"sk-estimator-id-26\" type=\"checkbox\" ><label for=\"sk-estimator-id-26\" class=\"sk-toggleable__label sk-toggleable__label-arrow\">HistGradientBoostingClassifier</label><div class=\"sk-toggleable__content\"><pre>HistGradientBoostingClassifier(max_iter=3000, random_state=42,\n",
       "                               scoring=&#x27;roc_auc&#x27;)</pre></div></div></div></div></div></div></div>"
      ],
      "text/plain": [
       "Pipeline(steps=[('column_transformer',\n",
       "                 ColumnTransformer(transformers=[('cat',\n",
       "                                                  OneHotEncoder(handle_unknown='ignore'),\n",
       "                                                  ['default', 'housing', 'loan',\n",
       "                                                   'job', 'education',\n",
       "                                                   'contact', 'month',\n",
       "                                                   'poutcome', 'marital']),\n",
       "                                                 ('num', StandardScaler(),\n",
       "                                                  ['age', 'balance', 'day',\n",
       "                                                   'duration', 'campaign',\n",
       "                                                   'pdays', 'previous'])])),\n",
       "                ('classifier',\n",
       "                 HistGradientBoostingClassifier(max_iter=3000, random_state=42,\n",
       "                                                scoring='roc_auc'))])"
      ]
     },
     "execution_count": 14,
     "metadata": {},
     "output_type": "execute_result"
    }
   ],
   "source": [
    "gb_model_filename = 'gb_model.joblib'\n",
    "gb_model = load_model(path.join(MODELS_PATH, gb_model_filename))\n",
    "\n",
    "if gb_model is None:\n",
    "    gb_params = {\n",
    "        'max_iter': 3000,\n",
    "        'scoring': SCORING,\n",
    "        'random_state': RNG_SEED,\n",
    "        # 'verbose': VERBOSITY,\n",
    "    }\n",
    "    \n",
    "    gb_model = Pipeline(steps=[\n",
    "        ('column_transformer', column_transformer),\n",
    "        ('classifier', HistGradientBoostingClassifier(**gb_params))\n",
    "    ])\n",
    "    \n",
    "    gb_model.fit(X, y)\n",
    "\n",
    "gb_model"
   ]
  },
  {
   "cell_type": "markdown",
   "id": "158a2975",
   "metadata": {
    "papermill": {
     "duration": 0.00795,
     "end_time": "2025-08-10T13:16:09.226583",
     "exception": false,
     "start_time": "2025-08-10T13:16:09.218633",
     "status": "completed"
    },
    "tags": []
   },
   "source": [
    "### Cross-validation"
   ]
  },
  {
   "cell_type": "markdown",
   "id": "74ebf495",
   "metadata": {
    "papermill": {
     "duration": 0.008539,
     "end_time": "2025-08-10T13:16:09.243327",
     "exception": false,
     "start_time": "2025-08-10T13:16:09.234788",
     "status": "completed"
    },
    "tags": []
   },
   "source": [
    "`HistGradientBoostingClassifier` does not return OOB error, so we use cross-validation to estimate the test error. Here, we set `cv=5`, which means it will use 5-fold cross-validation. By default, [cross_validate](https://scikit-learn.org/stable/modules/generated/sklearn.model_selection.cross_validate.html) uses [StratifiedKFold](https://scikit-learn.org/stable/modules/generated/sklearn.model_selection.StratifiedKFold.html) under the hood."
   ]
  },
  {
   "cell_type": "code",
   "execution_count": 15,
   "id": "89e72624",
   "metadata": {
    "_kg_hide-output": true,
    "execution": {
     "iopub.execute_input": "2025-08-10T13:16:09.262354Z",
     "iopub.status.busy": "2025-08-10T13:16:09.261304Z",
     "iopub.status.idle": "2025-08-10T13:21:40.566798Z",
     "shell.execute_reply": "2025-08-10T13:21:40.565254Z"
    },
    "papermill": {
     "duration": 331.331432,
     "end_time": "2025-08-10T13:21:40.583028",
     "exception": false,
     "start_time": "2025-08-10T13:16:09.251596",
     "status": "completed"
    },
    "tags": []
   },
   "outputs": [
    {
     "name": "stderr",
     "output_type": "stream",
     "text": [
      "[Parallel(n_jobs=-1)]: Using backend LokyBackend with 4 concurrent workers.\n",
      "[Parallel(n_jobs=-1)]: Done   5 out of   5 | elapsed:  5.5min finished\n"
     ]
    },
    {
     "data": {
      "text/plain": [
       "{'fit_time': array([207.94045138, 148.5244751 , 118.22973394, 214.42088723,\n",
       "        154.35692477]),\n",
       " 'score_time': array([6.7715044 , 5.7890799 , 4.96554041, 7.07091594, 5.61889935]),\n",
       " 'test_score': array([0.96587671, 0.96607459, 0.96498381, 0.96579898, 0.96667684]),\n",
       " 'train_score': array([0.96893207, 0.96808877, 0.96739703, 0.96940478, 0.96873625])}"
      ]
     },
     "execution_count": 15,
     "metadata": {},
     "output_type": "execute_result"
    }
   ],
   "source": [
    "scores = cross_validate(\n",
    "    gb_model, X, y, cv=5, \n",
    "    scoring=SCORING, \n",
    "    return_train_score=True,\n",
    "    n_jobs=-1, \n",
    "    verbose=VERBOSITY,\n",
    ")\n",
    "scores"
   ]
  },
  {
   "cell_type": "code",
   "execution_count": 16,
   "id": "2a26ca54",
   "metadata": {
    "execution": {
     "iopub.execute_input": "2025-08-10T13:21:40.602407Z",
     "iopub.status.busy": "2025-08-10T13:21:40.601951Z",
     "iopub.status.idle": "2025-08-10T13:21:40.609284Z",
     "shell.execute_reply": "2025-08-10T13:21:40.608310Z"
    },
    "papermill": {
     "duration": 0.018941,
     "end_time": "2025-08-10T13:21:40.610702",
     "exception": false,
     "start_time": "2025-08-10T13:21:40.591761",
     "status": "completed"
    },
    "tags": []
   },
   "outputs": [
    {
     "data": {
      "text/plain": [
       "(0.9658821867365088, 0.9685117791770719)"
      ]
     },
     "execution_count": 16,
     "metadata": {},
     "output_type": "execute_result"
    }
   ],
   "source": [
    "scores['test_score'].mean(), scores['train_score'].mean()"
   ]
  },
  {
   "cell_type": "code",
   "execution_count": 17,
   "id": "b1658b1b",
   "metadata": {
    "_kg_hide-input": true,
    "execution": {
     "iopub.execute_input": "2025-08-10T13:21:40.629590Z",
     "iopub.status.busy": "2025-08-10T13:21:40.629287Z",
     "iopub.status.idle": "2025-08-10T13:21:40.680784Z",
     "shell.execute_reply": "2025-08-10T13:21:40.679642Z"
    },
    "papermill": {
     "duration": 0.063087,
     "end_time": "2025-08-10T13:21:40.682630",
     "exception": false,
     "start_time": "2025-08-10T13:21:40.619543",
     "status": "completed"
    },
    "tags": []
   },
   "outputs": [
    {
     "name": "stdout",
     "output_type": "stream",
     "text": [
      "gb_model.joblib saved.\n"
     ]
    }
   ],
   "source": [
    "save_model(gb_model, gb_model_filename)"
   ]
  },
  {
   "cell_type": "markdown",
   "id": "e96632cd",
   "metadata": {
    "papermill": {
     "duration": 0.008489,
     "end_time": "2025-08-10T13:21:40.700289",
     "exception": false,
     "start_time": "2025-08-10T13:21:40.691800",
     "status": "completed"
    },
    "tags": []
   },
   "source": [
    "## Test predictions"
   ]
  },
  {
   "cell_type": "markdown",
   "id": "0b272f10",
   "metadata": {
    "papermill": {
     "duration": 0.008658,
     "end_time": "2025-08-10T13:21:40.717701",
     "exception": false,
     "start_time": "2025-08-10T13:21:40.709043",
     "status": "completed"
    },
    "tags": []
   },
   "source": [
    "Finally, we make predictions on the test data using the above models."
   ]
  },
  {
   "cell_type": "code",
   "execution_count": 18,
   "id": "da9f434b",
   "metadata": {
    "execution": {
     "iopub.execute_input": "2025-08-10T13:21:40.736817Z",
     "iopub.status.busy": "2025-08-10T13:21:40.736076Z",
     "iopub.status.idle": "2025-08-10T13:21:41.456517Z",
     "shell.execute_reply": "2025-08-10T13:21:41.455562Z"
    },
    "papermill": {
     "duration": 0.732013,
     "end_time": "2025-08-10T13:21:41.458321",
     "exception": false,
     "start_time": "2025-08-10T13:21:40.726308",
     "status": "completed"
    },
    "tags": []
   },
   "outputs": [
    {
     "data": {
      "text/plain": [
       "(250000, 16)"
      ]
     },
     "execution_count": 18,
     "metadata": {},
     "output_type": "execute_result"
    }
   ],
   "source": [
    "test = pd.read_csv(path.join(INPUT_PATH, 'test.csv'), index_col='id')\n",
    "test.shape"
   ]
  },
  {
   "cell_type": "code",
   "execution_count": 19,
   "id": "5e33babf",
   "metadata": {
    "execution": {
     "iopub.execute_input": "2025-08-10T13:21:41.477723Z",
     "iopub.status.busy": "2025-08-10T13:21:41.477425Z",
     "iopub.status.idle": "2025-08-10T13:22:11.701525Z",
     "shell.execute_reply": "2025-08-10T13:22:11.700617Z"
    },
    "papermill": {
     "duration": 30.244686,
     "end_time": "2025-08-10T13:22:11.712229",
     "exception": false,
     "start_time": "2025-08-10T13:21:41.467543",
     "status": "completed"
    },
    "tags": []
   },
   "outputs": [
    {
     "name": "stderr",
     "output_type": "stream",
     "text": [
      "[Parallel(n_jobs=4)]: Using backend ThreadingBackend with 4 concurrent workers.\n",
      "[Parallel(n_jobs=4)]: Done  42 tasks      | elapsed:    1.0s\n",
      "[Parallel(n_jobs=4)]: Done 192 tasks      | elapsed:    4.4s\n",
      "[Parallel(n_jobs=4)]: Done 442 tasks      | elapsed:   10.0s\n",
      "[Parallel(n_jobs=4)]: Done 500 out of 500 | elapsed:   11.4s finished\n"
     ]
    },
    {
     "name": "stdout",
     "output_type": "stream",
     "text": [
      "bag_submission.csv saved.\n"
     ]
    },
    {
     "name": "stderr",
     "output_type": "stream",
     "text": [
      "[Parallel(n_jobs=4)]: Using backend ThreadingBackend with 4 concurrent workers.\n",
      "[Parallel(n_jobs=4)]: Done  42 tasks      | elapsed:    1.3s\n",
      "[Parallel(n_jobs=4)]: Done 192 tasks      | elapsed:    5.3s\n",
      "[Parallel(n_jobs=4)]: Done 442 tasks      | elapsed:   11.9s\n",
      "[Parallel(n_jobs=4)]: Done 500 out of 500 | elapsed:   13.4s finished\n"
     ]
    },
    {
     "name": "stdout",
     "output_type": "stream",
     "text": [
      "rf_submission.csv saved.\n",
      "gb_submission.csv saved.\n"
     ]
    }
   ],
   "source": [
    "models = [\n",
    "    ('bag_submission.csv', bag_model),\n",
    "    ('rf_submission.csv', rf_model),\n",
    "    ('gb_submission.csv', gb_model),\n",
    "]\n",
    "\n",
    "for (filename, model) in models:\n",
    "    y_hat = model.predict_proba(test)[:, 1]\n",
    "    submission = pd.DataFrame({\n",
    "        'id': test.index,\n",
    "        'y': y_hat,\n",
    "    })\n",
    "    submission.to_csv(filename, index=False)\n",
    "    print(f'{filename} saved.')"
   ]
  }
 ],
 "metadata": {
  "kaggle": {
   "accelerator": "none",
   "dataSources": [
    {
     "databundleVersionId": 12937777,
     "isSourceIdPinned": false,
     "sourceId": 91719,
     "sourceType": "competition"
    },
    {
     "isSourceIdPinned": true,
     "modelId": 424592,
     "modelInstanceId": 406829,
     "sourceId": 514981,
     "sourceType": "modelInstanceVersion"
    }
   ],
   "dockerImageVersionId": 31089,
   "isGpuEnabled": false,
   "isInternetEnabled": true,
   "language": "python",
   "sourceType": "notebook"
  },
  "kernelspec": {
   "display_name": "Python 3",
   "language": "python",
   "name": "python3"
  },
  "language_info": {
   "codemirror_mode": {
    "name": "ipython",
    "version": 3
   },
   "file_extension": ".py",
   "mimetype": "text/x-python",
   "name": "python",
   "nbconvert_exporter": "python",
   "pygments_lexer": "ipython3",
   "version": "3.11.13"
  },
  "papermill": {
   "default_parameters": {},
   "duration": 517.920937,
   "end_time": "2025-08-10T13:22:15.148453",
   "environment_variables": {},
   "exception": null,
   "input_path": "__notebook__.ipynb",
   "output_path": "__notebook__.ipynb",
   "parameters": {},
   "start_time": "2025-08-10T13:13:37.227516",
   "version": "2.6.0"
  }
 },
 "nbformat": 4,
 "nbformat_minor": 5
}
